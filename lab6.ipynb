{
  "nbformat": 4,
  "nbformat_minor": 0,
  "metadata": {
    "colab": {
      "provenance": [],
      "authorship_tag": "ABX9TyN8NYAxu0VmxZylMPPrbcl3",
      "include_colab_link": true
    },
    "kernelspec": {
      "name": "python3",
      "display_name": "Python 3"
    },
    "language_info": {
      "name": "python"
    }
  },
  "cells": [
    {
      "cell_type": "markdown",
      "metadata": {
        "id": "view-in-github",
        "colab_type": "text"
      },
      "source": [
        "<a href=\"https://colab.research.google.com/github/ProInCPython/python_rep/blob/main/lab6.ipynb\" target=\"_parent\"><img src=\"https://colab.research.google.com/assets/colab-badge.svg\" alt=\"Open In Colab\"/></a>"
      ]
    },
    {
      "cell_type": "code",
      "execution_count": 22,
      "metadata": {
        "id": "dIdNTOO0Wipk",
        "colab": {
          "base_uri": "https://localhost:8080/"
        },
        "outputId": "6c57043b-099a-4c06-a55f-067c00e5ec7b"
      },
      "outputs": [
        {
          "output_type": "stream",
          "name": "stdout",
          "text": [
            "--------------Task 1-------------- \n",
            "\n",
            "    Name  Age        Group    Score\n",
            "0   Omar   22  Mathematics  59.8865\n",
            "1  Maria   18     Business  81.9170\n",
            "2  Ahmed   24  Engineering  67.7170\n",
            "3   Omar   24  Engineering  51.6535\n",
            "4   John   23           CS  71.4030 \n",
            "\n",
            "<class 'pandas.core.frame.DataFrame'>\n",
            "RangeIndex: 5000 entries, 0 to 4999\n",
            "Data columns (total 4 columns):\n",
            " #   Column  Non-Null Count  Dtype  \n",
            "---  ------  --------------  -----  \n",
            " 0   Name    5000 non-null   object \n",
            " 1   Age     5000 non-null   int64  \n",
            " 2   Group   5000 non-null   object \n",
            " 3   Score   5000 non-null   float64\n",
            "dtypes: float64(1), int64(1), object(2)\n",
            "memory usage: 156.4+ KB\n",
            "None \n",
            "\n",
            "               Age        Score\n",
            "count  5000.000000  5000.000000\n",
            "mean     21.048400    71.652097\n",
            "std       1.989786     7.230097\n",
            "min      18.000000    50.602000\n",
            "25%      19.000000    66.533875\n",
            "50%      21.000000    71.696250\n",
            "75%      23.000000    76.711625\n",
            "max      24.000000    95.091500 \n",
            "\n",
            "Средний балл студентов: 71.65 \n",
            "\n",
            "Кол-во студентов в каждой группе:\n",
            "Group\n",
            "Engineering    1274\n",
            "Business       1264\n",
            "CS             1239\n",
            "Mathematics    1223\n",
            "Name: count, dtype: int64 \n",
            "\n"
          ]
        }
      ],
      "source": [
        "import pandas as pd\n",
        "\n",
        "data = pd.read_csv(\"students.csv\")\n",
        "data.drop(columns=['Student_ID','Last_Name', 'Email', 'Gender', 'Attendance (%)',\n",
        "                   'Midterm_Score', 'Final_Score', 'Assignments_Avg',\n",
        "                   'Quizzes_Avg', 'Participation_Score', 'Projects_Score',\n",
        "                   'Grade', 'Study_Hours_per_Week', 'Extracurricular_Activities',\n",
        "                   'Internet_Access_at_Home', 'Parent_Education_Level',\n",
        "                   'Family_Income_Level', 'Stress_Level (1-10)',\n",
        "                   'Sleep_Hours_per_Night'], inplace=True)\n",
        "data.rename(columns={'First_Name' : 'Name',\n",
        "                     'Department' : 'Group', 'Total_Score' : 'Score'}, inplace=True)\n",
        "\n",
        "print(\"--------------Task 1--------------\", '\\n')\n",
        "print(data.head(5), '\\n')\n",
        "print(data.info(), '\\n')\n",
        "print(data.describe(), '\\n')\n",
        "\n",
        "print(\"Средний балл студентов:\", round(data[\"Score\"].mean(), 2), '\\n')\n",
        "print(f\"Кол-во студентов в каждой группе:\\n{data['Group'].value_counts()}\", '\\n')"
      ]
    },
    {
      "cell_type": "code",
      "source": [
        "print(\"--------------Task 2--------------\", '\\n')\n",
        "\n",
        "print(data[data[\"Score\"] > 80])\n",
        "print(data[data[\"Score\"] > 80].sort_values('Score', ascending=False))\n",
        "\n",
        "print(\"Самый старший студент:\")\n",
        "print(data[data[\"Age\"] == data[\"Age\"].max()].sort_values('Name', ascending=True).head(1), '\\n')\n",
        "print(\"Самый младший студент:\")\n",
        "print(data[data[\"Age\"] == data[\"Age\"].min()].sort_values('Name', ascending=True).head(1), '\\n')"
      ],
      "metadata": {
        "colab": {
          "base_uri": "https://localhost:8080/"
        },
        "id": "Tn16pxOaXGQ3",
        "outputId": "365136ea-11c8-4b29-cecb-a46fcc092a54"
      },
      "execution_count": 23,
      "outputs": [
        {
          "output_type": "stream",
          "name": "stdout",
          "text": [
            "--------------Task 2-------------- \n",
            "\n",
            "       Name  Age        Group    Score\n",
            "1     Maria   18     Business  81.9170\n",
            "6     Ahmed   24     Business  82.8575\n",
            "9      Sara   22     Business  82.7555\n",
            "19     John   20           CS  80.2355\n",
            "23     Liam   23           CS  81.2455\n",
            "...     ...  ...          ...      ...\n",
            "4973  Maria   21     Business  80.4500\n",
            "4974   Liam   23  Engineering  92.6520\n",
            "4983   Emma   22  Mathematics  90.1670\n",
            "4984   Liam   20  Mathematics  83.4425\n",
            "4992   Sara   18  Engineering  84.0425\n",
            "\n",
            "[654 rows x 4 columns]\n",
            "       Name  Age        Group    Score\n",
            "1104   Emma   20           CS  95.0915\n",
            "2108   Omar   23     Business  93.3160\n",
            "4974   Liam   23  Engineering  92.6520\n",
            "4711  Ahmed   22  Mathematics  91.8410\n",
            "2218   Liam   23  Mathematics  91.7170\n",
            "...     ...  ...          ...      ...\n",
            "3292    Ali   18  Engineering  80.0630\n",
            "3812   Sara   21  Engineering  80.0575\n",
            "1020   Omar   23           CS  80.0545\n",
            "2233   John   20  Mathematics  80.0290\n",
            "1422   John   21  Mathematics  80.0020\n",
            "\n",
            "[654 rows x 4 columns]\n",
            "Самый старший студент:\n",
            "    Name  Age        Group   Score\n",
            "2  Ahmed   24  Engineering  67.717 \n",
            "\n",
            "Самый младший студент:\n",
            "       Name  Age        Group    Score\n",
            "4363  Ahmed   18  Engineering  74.3745 \n",
            "\n"
          ]
        }
      ]
    },
    {
      "cell_type": "code",
      "source": [
        "print(\"--------------Task 3--------------\", '\\n')\n",
        "\n",
        "data.loc[5000] = ['David', 21, 'Mathematics', None]\n",
        "data.loc[5001] = ['John', 19, None, None]\n",
        "print(data.isna().sum())\n",
        "\n",
        "data[\"Score\"].fillna(data[\"Score\"].mean(), inplace=True)\n",
        "\n",
        "data.dropna(subset=['Group'], inplace=True)\n",
        "\n",
        "print(data.tail(5))"
      ],
      "metadata": {
        "colab": {
          "base_uri": "https://localhost:8080/"
        },
        "id": "UGJBpHlZXJd0",
        "outputId": "7336c662-5bc0-40a5-c534-349a786f2cba"
      },
      "execution_count": 24,
      "outputs": [
        {
          "output_type": "stream",
          "name": "stdout",
          "text": [
            "--------------Task 3-------------- \n",
            "\n",
            "Name     0\n",
            "Age      0\n",
            "Group    1\n",
            "Score    2\n",
            "dtype: int64\n",
            "       Name  Age        Group      Score\n",
            "4996   Emma   19  Mathematics  59.024000\n",
            "4997   John   24           CS  74.756000\n",
            "4998   Sara   23  Engineering  68.658500\n",
            "4999  Maria   21  Mathematics  78.748500\n",
            "5000  David   21  Mathematics  71.652097\n"
          ]
        },
        {
          "output_type": "stream",
          "name": "stderr",
          "text": [
            "<ipython-input-24-371d6500ac75>:3: FutureWarning: The behavior of DataFrame concatenation with empty or all-NA entries is deprecated. In a future version, this will no longer exclude empty or all-NA columns when determining the result dtypes. To retain the old behavior, exclude the relevant entries before the concat operation.\n",
            "  data.loc[5000] = ['David', 21, 'Mathematics', None]\n",
            "<ipython-input-24-371d6500ac75>:4: FutureWarning: The behavior of DataFrame concatenation with empty or all-NA entries is deprecated. In a future version, this will no longer exclude empty or all-NA columns when determining the result dtypes. To retain the old behavior, exclude the relevant entries before the concat operation.\n",
            "  data.loc[5001] = ['John', 19, None, None]\n",
            "<ipython-input-24-371d6500ac75>:7: FutureWarning: A value is trying to be set on a copy of a DataFrame or Series through chained assignment using an inplace method.\n",
            "The behavior will change in pandas 3.0. This inplace method will never work because the intermediate object on which we are setting values always behaves as a copy.\n",
            "\n",
            "For example, when doing 'df[col].method(value, inplace=True)', try using 'df.method({col: value}, inplace=True)' or df[col] = df[col].method(value) instead, to perform the operation inplace on the original object.\n",
            "\n",
            "\n",
            "  data[\"Score\"].fillna(data[\"Score\"].mean(), inplace=True)\n"
          ]
        }
      ]
    },
    {
      "cell_type": "code",
      "source": [
        "def is_passed(score):\n",
        "    if score >= 60:\n",
        "        return 1\n",
        "    else:\n",
        "        return 0\n",
        "\n",
        "print(\"--------------Task 4--------------\", '\\n')\n",
        "\n",
        "print(data.groupby([\"Group\"]).agg({'Score' : 'mean', 'Age' : 'median'}), '\\n')\n",
        "\n",
        "\n",
        "data[\"Passed\"] = data[\"Score\"].apply(func=is_passed)\n",
        "\n",
        "\n",
        "print(data.head(10))"
      ],
      "metadata": {
        "colab": {
          "base_uri": "https://localhost:8080/"
        },
        "id": "yE4H5Sa_XOy5",
        "outputId": "7c7955e9-80a7-47ae-c112-da6e45a6fead"
      },
      "execution_count": 25,
      "outputs": [
        {
          "output_type": "stream",
          "name": "stdout",
          "text": [
            "--------------Task 4-------------- \n",
            "\n",
            "                 Score   Age\n",
            "Group                       \n",
            "Business     71.922656  21.0\n",
            "CS           71.434113  21.0\n",
            "Engineering  71.689880  21.0\n",
            "Mathematics  71.554025  21.0 \n",
            "\n",
            "    Name  Age        Group    Score  Passed\n",
            "0   Omar   22  Mathematics  59.8865       0\n",
            "1  Maria   18     Business  81.9170       1\n",
            "2  Ahmed   24  Engineering  67.7170       1\n",
            "3   Omar   24  Engineering  51.6535       0\n",
            "4   John   23           CS  71.4030       1\n",
            "5   Liam   21  Mathematics  68.0900       1\n",
            "6  Ahmed   24     Business  82.8575       1\n",
            "7  Ahmed   19  Engineering  71.3685       1\n",
            "8   Omar   21           CS  65.8605       1\n",
            "9   Sara   22     Business  82.7555       1\n"
          ]
        }
      ]
    },
    {
      "cell_type": "code",
      "source": [
        "import matplotlib.pyplot as plt\n",
        "\n",
        "data_grouped = data.groupby([\"Group\"])[\"Score\"].mean()\n",
        "data_grouped.plot(kind=\"bar\", x=\"Group\", y=\"Score\", xlabel=\"Group name\", ylabel=\"Average score\", title=\"Average score by groups\", rot=0, colormap=\"gist_heat\")\n",
        "\n",
        "plt.legend()\n",
        "plt.show()"
      ],
      "metadata": {
        "colab": {
          "base_uri": "https://localhost:8080/",
          "height": 472
        },
        "id": "XzZ6mJwUYYJ-",
        "outputId": "27fdb0e2-6453-4dfd-a21b-df046acf11a2"
      },
      "execution_count": 26,
      "outputs": [
        {
          "output_type": "display_data",
          "data": {
            "text/plain": [
              "<Figure size 640x480 with 1 Axes>"
            ],
            "image/png": "[encoded data removed]"
          },
          "metadata": {}
        }
      ]
    },
    {
      "cell_type": "code",
      "source": [],
      "metadata": {
        "id": "GcjcgquEYeWP"
      },
      "execution_count": null,
      "outputs": []
    }
  ]
}